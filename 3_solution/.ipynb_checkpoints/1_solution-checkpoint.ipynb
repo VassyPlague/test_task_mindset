{
 "cells": [
  {
   "cell_type": "code",
   "execution_count": 59,
   "id": "f5e2b150",
   "metadata": {},
   "outputs": [],
   "source": [
    "import cv2\n",
    "import pytesseract\n",
    "from PIL import Image\n",
    "import string"
   ]
  },
  {
   "cell_type": "code",
   "execution_count": 94,
   "id": "6c558341",
   "metadata": {},
   "outputs": [
    {
     "data": {
      "text/plain": [
       "['0.jpeg',\n",
       " '1.jpeg',\n",
       " '2.jpeg',\n",
       " '3.jpeg',\n",
       " '4.png',\n",
       " '5.jpeg',\n",
       " '6.jpeg',\n",
       " '7.jpeg',\n",
       " '8.jpeg',\n",
       " '9.jpeg']"
      ]
     },
     "execution_count": 94,
     "metadata": {},
     "output_type": "execute_result"
    }
   ],
   "source": [
    "import os\n",
    "os.listdir('DataForOCR')"
   ]
  },
  {
   "cell_type": "code",
   "execution_count": 67,
   "id": "6f892538",
   "metadata": {},
   "outputs": [],
   "source": [
    "rus_chars = 'АБВГДЕЁЖЗИЙКЛМНОПРСТУФХЦЧШЩЪЫЬЭЮЯ'"
   ]
  },
  {
   "cell_type": "code",
   "execution_count": 11,
   "id": "34875ac4",
   "metadata": {},
   "outputs": [],
   "source": [
    "img = cv2.imread('DataForOCR/4.jpeg')"
   ]
  },
  {
   "cell_type": "code",
   "execution_count": 12,
   "id": "24343bd2",
   "metadata": {},
   "outputs": [
    {
     "data": {
      "text/plain": [
       "(1000, 750, 3)"
      ]
     },
     "execution_count": 12,
     "metadata": {},
     "output_type": "execute_result"
    }
   ],
   "source": [
    "img.shape"
   ]
  },
  {
   "cell_type": "code",
   "execution_count": 95,
   "id": "d3a74c38",
   "metadata": {},
   "outputs": [],
   "source": [
    "img = img[int (img.shape[0]/2):img.shape[0], 0 : img.shape[1] ]"
   ]
  },
  {
   "cell_type": "code",
   "execution_count": 16,
   "id": "c359c3d5",
   "metadata": {},
   "outputs": [
    {
     "data": {
      "text/plain": [
       "'Рч ы\\nМАКАРОВ\\n\\n%шы Мш?.т ы\\nн А РОМАН ©\\n) ю 1 ,_ ЮРЬЕВИЧ к\\n\\n) | „ №Ж. щ — 16.06.1995\\nно3 ДЕР. БОРОУСЫ -\\nПЫТАЛОВСКОГО Р-НА ®\\nПСКОВСКОЙ ОБЛ. ©\\n\\nРМВИ5МАКАКО / < < ВКОМАМ< 7 КОЕМ Т< < < < < < < < < << < < << < <\\n\\n581 1808421яи$9506169п«‹<«<_\\n'"
      ]
     },
     "execution_count": 16,
     "metadata": {},
     "output_type": "execute_result"
    }
   ],
   "source": [
    "pytesseract.pytesseract.tesseract_cmd = 'C:\\\\Program Files\\\\Tesseract-OCR\\\\tesseract.exe'\n",
    "tessdata_dir_config = r'--tessdata-dir \"C:\\\\Program Files\\\\Tesseract-OCR\\\\tessdata\"'\n",
    "data = pytesseract.image_to_string(img, lang='rus', config=tessdata_dir_config)\n",
    "data"
   ]
  },
  {
   "cell_type": "code",
   "execution_count": 89,
   "id": "2dabca36",
   "metadata": {},
   "outputs": [],
   "source": [
    "def return_upper(doc):\n",
    "    ret_str = ''\n",
    "    for i in doc:\n",
    "        if i == i.upper() and i in rus_chars:\n",
    "            ret_str += i\n",
    "        if i == ' ':\n",
    "            ret_str += i\n",
    "    return ret_str"
   ]
  },
  {
   "cell_type": "code",
   "execution_count": 90,
   "id": "9b4d6209",
   "metadata": {},
   "outputs": [],
   "source": [
    "def split_all_names(doc):\n",
    "    returned = []\n",
    "    for i in doc.split():\n",
    "        if len(i) > 3:\n",
    "            returned.append(i)\n",
    "    return returned[0:3]"
   ]
  },
  {
   "cell_type": "code",
   "execution_count": 91,
   "id": "fb9de85f",
   "metadata": {},
   "outputs": [],
   "source": [
    "def return_all_names(doc):\n",
    "    upper = return_upper(doc)\n",
    "    names = split_all_names (upper)\n",
    "    return \" \".join(names)"
   ]
  },
  {
   "cell_type": "code",
   "execution_count": 92,
   "id": "ce882284",
   "metadata": {},
   "outputs": [
    {
     "data": {
      "text/plain": [
       "'МАКАРОВ РОМАН ЮРЬЕВИЧ'"
      ]
     },
     "execution_count": 92,
     "metadata": {},
     "output_type": "execute_result"
    }
   ],
   "source": [
    "return_all_names(data)"
   ]
  }
 ],
 "metadata": {
  "kernelspec": {
   "display_name": "Python 3 (ipykernel)",
   "language": "python",
   "name": "python3"
  },
  "language_info": {
   "codemirror_mode": {
    "name": "ipython",
    "version": 3
   },
   "file_extension": ".py",
   "mimetype": "text/x-python",
   "name": "python",
   "nbconvert_exporter": "python",
   "pygments_lexer": "ipython3",
   "version": "3.9.13"
  }
 },
 "nbformat": 4,
 "nbformat_minor": 5
}
